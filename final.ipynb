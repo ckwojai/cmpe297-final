{
 "cells": [
  {
   "cell_type": "code",
   "execution_count": 1,
   "id": "6bc8b423",
   "metadata": {},
   "outputs": [],
   "source": [
    "import pandas as pd\n",
    "from sklearn.model_selection import train_test_split"
   ]
  },
  {
   "cell_type": "code",
   "execution_count": 2,
   "id": "b089afb3",
   "metadata": {},
   "outputs": [
    {
     "data": {
      "text/html": [
       "<div>\n",
       "<style scoped>\n",
       "    .dataframe tbody tr th:only-of-type {\n",
       "        vertical-align: middle;\n",
       "    }\n",
       "\n",
       "    .dataframe tbody tr th {\n",
       "        vertical-align: top;\n",
       "    }\n",
       "\n",
       "    .dataframe thead th {\n",
       "        text-align: right;\n",
       "    }\n",
       "</style>\n",
       "<table border=\"1\" class=\"dataframe\">\n",
       "  <thead>\n",
       "    <tr style=\"text-align: right;\">\n",
       "      <th></th>\n",
       "      <th>uid</th>\n",
       "      <th>iid</th>\n",
       "      <th>rating</th>\n",
       "      <th>ts</th>\n",
       "    </tr>\n",
       "  </thead>\n",
       "  <tbody>\n",
       "    <tr>\n",
       "      <th>0</th>\n",
       "      <td>905</td>\n",
       "      <td>470</td>\n",
       "      <td>1</td>\n",
       "      <td>889325071</td>\n",
       "    </tr>\n",
       "    <tr>\n",
       "      <th>1</th>\n",
       "      <td>697</td>\n",
       "      <td>1518</td>\n",
       "      <td>5</td>\n",
       "      <td>879835275</td>\n",
       "    </tr>\n",
       "    <tr>\n",
       "      <th>2</th>\n",
       "      <td>855</td>\n",
       "      <td>1687</td>\n",
       "      <td>5</td>\n",
       "      <td>875638677</td>\n",
       "    </tr>\n",
       "    <tr>\n",
       "      <th>3</th>\n",
       "      <td>950</td>\n",
       "      <td>1447</td>\n",
       "      <td>5</td>\n",
       "      <td>877420720</td>\n",
       "    </tr>\n",
       "    <tr>\n",
       "      <th>4</th>\n",
       "      <td>806</td>\n",
       "      <td>1170</td>\n",
       "      <td>4</td>\n",
       "      <td>879889337</td>\n",
       "    </tr>\n",
       "    <tr>\n",
       "      <th>...</th>\n",
       "      <td>...</td>\n",
       "      <td>...</td>\n",
       "      <td>...</td>\n",
       "      <td>...</td>\n",
       "    </tr>\n",
       "    <tr>\n",
       "      <th>85719</th>\n",
       "      <td>205</td>\n",
       "      <td>1136</td>\n",
       "      <td>1</td>\n",
       "      <td>884142487</td>\n",
       "    </tr>\n",
       "    <tr>\n",
       "      <th>85720</th>\n",
       "      <td>708</td>\n",
       "      <td>1497</td>\n",
       "      <td>4</td>\n",
       "      <td>881473612</td>\n",
       "    </tr>\n",
       "    <tr>\n",
       "      <th>85721</th>\n",
       "      <td>167</td>\n",
       "      <td>1036</td>\n",
       "      <td>3</td>\n",
       "      <td>875492395</td>\n",
       "    </tr>\n",
       "    <tr>\n",
       "      <th>85722</th>\n",
       "      <td>508</td>\n",
       "      <td>1528</td>\n",
       "      <td>3</td>\n",
       "      <td>880337585</td>\n",
       "    </tr>\n",
       "    <tr>\n",
       "      <th>85723</th>\n",
       "      <td>76</td>\n",
       "      <td>1586</td>\n",
       "      <td>3</td>\n",
       "      <td>886695894</td>\n",
       "    </tr>\n",
       "  </tbody>\n",
       "</table>\n",
       "<p>85724 rows × 4 columns</p>\n",
       "</div>"
      ],
      "text/plain": [
       "       uid   iid  rating         ts\n",
       "0      905   470       1  889325071\n",
       "1      697  1518       5  879835275\n",
       "2      855  1687       5  875638677\n",
       "3      950  1447       5  877420720\n",
       "4      806  1170       4  879889337\n",
       "...    ...   ...     ...        ...\n",
       "85719  205  1136       1  884142487\n",
       "85720  708  1497       4  881473612\n",
       "85721  167  1036       3  875492395\n",
       "85722  508  1528       3  880337585\n",
       "85723   76  1586       3  886695894\n",
       "\n",
       "[85724 rows x 4 columns]"
      ]
     },
     "execution_count": 2,
     "metadata": {},
     "output_type": "execute_result"
    }
   ],
   "source": [
    "train_raw = pd.read_csv('train.dat', header=None,\n",
    "            names=[\"uid\", \"iid\", \"rating\", \"ts\"], sep='\\t', engine='python')\n",
    "train_raw"
   ]
  },
  {
   "cell_type": "code",
   "execution_count": 3,
   "id": "a1adfa76",
   "metadata": {},
   "outputs": [
    {
     "data": {
      "text/html": [
       "<div>\n",
       "<style scoped>\n",
       "    .dataframe tbody tr th:only-of-type {\n",
       "        vertical-align: middle;\n",
       "    }\n",
       "\n",
       "    .dataframe tbody tr th {\n",
       "        vertical-align: top;\n",
       "    }\n",
       "\n",
       "    .dataframe thead th {\n",
       "        text-align: right;\n",
       "    }\n",
       "</style>\n",
       "<table border=\"1\" class=\"dataframe\">\n",
       "  <thead>\n",
       "    <tr style=\"text-align: right;\">\n",
       "      <th></th>\n",
       "      <th>uid</th>\n",
       "      <th>iid</th>\n",
       "    </tr>\n",
       "  </thead>\n",
       "  <tbody>\n",
       "    <tr>\n",
       "      <th>0</th>\n",
       "      <td>158</td>\n",
       "      <td>951</td>\n",
       "    </tr>\n",
       "    <tr>\n",
       "      <th>1</th>\n",
       "      <td>521</td>\n",
       "      <td>1202</td>\n",
       "    </tr>\n",
       "    <tr>\n",
       "      <th>2</th>\n",
       "      <td>98</td>\n",
       "      <td>1556</td>\n",
       "    </tr>\n",
       "    <tr>\n",
       "      <th>3</th>\n",
       "      <td>292</td>\n",
       "      <td>1583</td>\n",
       "    </tr>\n",
       "    <tr>\n",
       "      <th>4</th>\n",
       "      <td>68</td>\n",
       "      <td>1064</td>\n",
       "    </tr>\n",
       "    <tr>\n",
       "      <th>...</th>\n",
       "      <td>...</td>\n",
       "      <td>...</td>\n",
       "    </tr>\n",
       "    <tr>\n",
       "      <th>2149</th>\n",
       "      <td>537</td>\n",
       "      <td>1414</td>\n",
       "    </tr>\n",
       "    <tr>\n",
       "      <th>2150</th>\n",
       "      <td>618</td>\n",
       "      <td>1448</td>\n",
       "    </tr>\n",
       "    <tr>\n",
       "      <th>2151</th>\n",
       "      <td>154</td>\n",
       "      <td>1519</td>\n",
       "    </tr>\n",
       "    <tr>\n",
       "      <th>2152</th>\n",
       "      <td>154</td>\n",
       "      <td>1429</td>\n",
       "    </tr>\n",
       "    <tr>\n",
       "      <th>2153</th>\n",
       "      <td>826</td>\n",
       "      <td>1602</td>\n",
       "    </tr>\n",
       "  </tbody>\n",
       "</table>\n",
       "<p>2154 rows × 2 columns</p>\n",
       "</div>"
      ],
      "text/plain": [
       "      uid   iid\n",
       "0     158   951\n",
       "1     521  1202\n",
       "2      98  1556\n",
       "3     292  1583\n",
       "4      68  1064\n",
       "...   ...   ...\n",
       "2149  537  1414\n",
       "2150  618  1448\n",
       "2151  154  1519\n",
       "2152  154  1429\n",
       "2153  826  1602\n",
       "\n",
       "[2154 rows x 2 columns]"
      ]
     },
     "execution_count": 3,
     "metadata": {},
     "output_type": "execute_result"
    }
   ],
   "source": [
    "test_raw = pd.read_csv('test.dat', header=None,\n",
    "            names=[\"uid\", \"iid\"], sep='\\t', engine='python')\n",
    "test_raw"
   ]
  },
  {
   "cell_type": "code",
   "execution_count": 6,
   "id": "93297530",
   "metadata": {},
   "outputs": [],
   "source": [
    "train, valid = train_test_split(train_raw, test_size=0.2)"
   ]
  },
  {
   "cell_type": "code",
   "execution_count": 7,
   "id": "ad7323f7",
   "metadata": {},
   "outputs": [],
   "source": [
    "train.to_csv(\"train_set.csv\")\n",
    "valid.to_csv(\"valid_set.csv\")"
   ]
  },
  {
   "cell_type": "markdown",
   "id": "2688cc96",
   "metadata": {},
   "source": [
    "# Feature Vectors"
   ]
  },
  {
   "cell_type": "code",
   "execution_count": 59,
   "id": "88b80bea",
   "metadata": {},
   "outputs": [],
   "source": [
    "from pyspark.ml.feature import BucketedRandomProjectionLSH\n",
    "from pyspark.ml.linalg import Vectors\n",
    "from pyspark.sql.functions import col\n",
    "from pyspark.ml.linalg import VectorUDT\n",
    "from pyspark.sql.types import *\n",
    "from pyspark.ml.feature import MinHashLSH"
   ]
  },
  {
   "cell_type": "code",
   "execution_count": 8,
   "id": "083d6453",
   "metadata": {},
   "outputs": [],
   "source": [
    "train_set = pd.read_csv('train_set.csv')"
   ]
  },
  {
   "cell_type": "code",
   "execution_count": 21,
   "id": "5da994a5",
   "metadata": {},
   "outputs": [],
   "source": [
    "max_iid = train_set.iid.max()\n",
    "u2irmap = {}"
   ]
  },
  {
   "cell_type": "code",
   "execution_count": 17,
   "id": "e2467640",
   "metadata": {},
   "outputs": [],
   "source": [
    "for index, r in train_set.iterrows():\n",
    "    if r.uid not in u2irmap:\n",
    "        u2irmap[r.uid] = {}\n",
    "    u2irmap[r.uid][r.iid] = r.rating"
   ]
  },
  {
   "cell_type": "code",
   "execution_count": 28,
   "id": "8e884eea",
   "metadata": {},
   "outputs": [
    {
     "name": "stderr",
     "output_type": "stream",
     "text": [
      "Setting default log level to \"WARN\".\n",
      "To adjust logging level use sc.setLogLevel(newLevel). For SparkR, use setLogLevel(newLevel).\n"
     ]
    },
    {
     "name": "stdout",
     "output_type": "stream",
     "text": [
      "22/12/12 11:52:14 WARN NativeCodeLoader: Unable to load native-hadoop library for your platform... using builtin-java classes where applicable\n"
     ]
    }
   ],
   "source": [
    "from pyspark.context import SparkContext\n",
    "from pyspark.sql.session import SparkSession\n",
    "sc = SparkContext('local')\n",
    "spark = SparkSession(sc)"
   ]
  },
  {
   "cell_type": "code",
   "execution_count": 89,
   "id": "45dd7a15",
   "metadata": {},
   "outputs": [],
   "source": [
    "spUsers = [(int(i), Vectors.sparse(max_iid+1, u2irmap[i])) for i in u2irmap] # need to convert numpy.int to int\n",
    "dfUsers = spark.createDataFrame(spUsers, [\"uid\", \"features\"])"
   ]
  },
  {
   "cell_type": "code",
   "execution_count": 83,
   "id": "b8eda858",
   "metadata": {},
   "outputs": [],
   "source": [
    "mh = MinHashLSH(inputCol=\"features\", outputCol=\"hashes\", numHashTables=5)\n",
    "model = mh.fit(dfUsers)\n",
    "model.transform(dfUsers).head()"
   ]
  },
  {
   "cell_type": "markdown",
   "id": "f2f71751",
   "metadata": {},
   "source": [
    "# Approximate Nearest Neighbor"
   ]
  },
  {
   "cell_type": "code",
   "execution_count": 90,
   "id": "563d0309",
   "metadata": {},
   "outputs": [],
   "source": [
    "valid_set = pd.read_csv('valid_set.csv')"
   ]
  },
  {
   "cell_type": "code",
   "execution_count": 92,
   "id": "2120d8c9",
   "metadata": {},
   "outputs": [],
   "source": [
    "vu2irmap = {}\n",
    "for index, r in valid_set.iterrows():\n",
    "    if r.uid not in vu2irmap:\n",
    "        vu2irmap[r.uid] = {}\n",
    "    vu2irmap[r.uid][r.iid] = r.rating"
   ]
  },
  {
   "cell_type": "code",
   "execution_count": 95,
   "id": "3e201695",
   "metadata": {},
   "outputs": [
    {
     "ename": "Py4JError",
     "evalue": "An error occurred while calling o199.approxNearestNeighbors. Trace:\npy4j.Py4JException: Method approxNearestNeighbors([class org.apache.spark.sql.Dataset, class org.apache.spark.sql.Dataset, class java.lang.Integer, class java.lang.String]) does not exist\n\tat py4j.reflection.ReflectionEngine.getMethod(ReflectionEngine.java:318)\n\tat py4j.reflection.ReflectionEngine.getMethod(ReflectionEngine.java:326)\n\tat py4j.Gateway.invoke(Gateway.java:274)\n\tat py4j.commands.AbstractCommand.invokeMethod(AbstractCommand.java:132)\n\tat py4j.commands.CallCommand.execute(CallCommand.java:79)\n\tat py4j.ClientServerConnection.waitForCommands(ClientServerConnection.java:182)\n\tat py4j.ClientServerConnection.run(ClientServerConnection.java:106)\n\tat java.base/java.lang.Thread.run(Thread.java:1589)\n\n",
     "output_type": "error",
     "traceback": [
      "\u001b[0;31m---------------------------------------------------------------------------\u001b[0m",
      "\u001b[0;31mPy4JError\u001b[0m                                 Traceback (most recent call last)",
      "\u001b[0;32m/var/folders/4r/z4c5m78x2tqgbkj8hx9jx2cm0000gn/T/ipykernel_14755/950643976.py\u001b[0m in \u001b[0;36m<module>\u001b[0;34m\u001b[0m\n\u001b[1;32m      1\u001b[0m \u001b[0mvspUsers\u001b[0m \u001b[0;34m=\u001b[0m \u001b[0;34m[\u001b[0m\u001b[0;34m(\u001b[0m\u001b[0mint\u001b[0m\u001b[0;34m(\u001b[0m\u001b[0mi\u001b[0m\u001b[0;34m)\u001b[0m\u001b[0;34m,\u001b[0m \u001b[0mVectors\u001b[0m\u001b[0;34m.\u001b[0m\u001b[0msparse\u001b[0m\u001b[0;34m(\u001b[0m\u001b[0mmax_iid\u001b[0m\u001b[0;34m+\u001b[0m\u001b[0;36m1\u001b[0m\u001b[0;34m,\u001b[0m \u001b[0mvu2irmap\u001b[0m\u001b[0;34m[\u001b[0m\u001b[0mi\u001b[0m\u001b[0;34m]\u001b[0m\u001b[0;34m)\u001b[0m\u001b[0;34m)\u001b[0m \u001b[0;32mfor\u001b[0m \u001b[0mi\u001b[0m \u001b[0;32min\u001b[0m \u001b[0mvu2irmap\u001b[0m\u001b[0;34m]\u001b[0m \u001b[0;31m# need to convert numpy.int to int\u001b[0m\u001b[0;34m\u001b[0m\u001b[0;34m\u001b[0m\u001b[0m\n\u001b[1;32m      2\u001b[0m \u001b[0mvdfUsers\u001b[0m \u001b[0;34m=\u001b[0m \u001b[0mspark\u001b[0m\u001b[0;34m.\u001b[0m\u001b[0mcreateDataFrame\u001b[0m\u001b[0;34m(\u001b[0m\u001b[0mvspUsers\u001b[0m\u001b[0;34m,\u001b[0m \u001b[0;34m[\u001b[0m\u001b[0;34m\"uid\"\u001b[0m\u001b[0;34m,\u001b[0m \u001b[0;34m\"features\"\u001b[0m\u001b[0;34m]\u001b[0m\u001b[0;34m)\u001b[0m\u001b[0;34m\u001b[0m\u001b[0;34m\u001b[0m\u001b[0m\n\u001b[0;32m----> 3\u001b[0;31m \u001b[0mmodel\u001b[0m\u001b[0;34m.\u001b[0m\u001b[0mapproxNearestNeighbors\u001b[0m\u001b[0;34m(\u001b[0m\u001b[0mdfUsers\u001b[0m\u001b[0;34m,\u001b[0m \u001b[0mvdfUsers\u001b[0m\u001b[0;34m,\u001b[0m \u001b[0;36m5\u001b[0m\u001b[0;34m)\u001b[0m\u001b[0;34m.\u001b[0m\u001b[0mcollect\u001b[0m\u001b[0;34m(\u001b[0m\u001b[0;34m)\u001b[0m\u001b[0;34m\u001b[0m\u001b[0;34m\u001b[0m\u001b[0m\n\u001b[0m\u001b[1;32m      4\u001b[0m \u001b[0mapproxNearestNeighbors\u001b[0m\u001b[0;34m\u001b[0m\u001b[0;34m\u001b[0m\u001b[0m\n",
      "\u001b[0;32m/opt/homebrew/Caskroom/miniconda/base/envs/cmpe297/lib/python3.7/site-packages/pyspark/ml/feature.py\u001b[0m in \u001b[0;36mapproxNearestNeighbors\u001b[0;34m(self, dataset, key, numNearestNeighbors, distCol)\u001b[0m\n\u001b[1;32m    421\u001b[0m             \u001b[0madded\u001b[0m \u001b[0mto\u001b[0m \u001b[0mshow\u001b[0m \u001b[0mthe\u001b[0m \u001b[0mdistance\u001b[0m \u001b[0mbetween\u001b[0m \u001b[0meach\u001b[0m \u001b[0mrow\u001b[0m \u001b[0;32mand\u001b[0m \u001b[0mthe\u001b[0m \u001b[0mkey\u001b[0m\u001b[0;34m.\u001b[0m\u001b[0;34m\u001b[0m\u001b[0;34m\u001b[0m\u001b[0m\n\u001b[1;32m    422\u001b[0m         \"\"\"\n\u001b[0;32m--> 423\u001b[0;31m         \u001b[0;32mreturn\u001b[0m \u001b[0mself\u001b[0m\u001b[0;34m.\u001b[0m\u001b[0m_call_java\u001b[0m\u001b[0;34m(\u001b[0m\u001b[0;34m\"approxNearestNeighbors\"\u001b[0m\u001b[0;34m,\u001b[0m \u001b[0mdataset\u001b[0m\u001b[0;34m,\u001b[0m \u001b[0mkey\u001b[0m\u001b[0;34m,\u001b[0m \u001b[0mnumNearestNeighbors\u001b[0m\u001b[0;34m,\u001b[0m \u001b[0mdistCol\u001b[0m\u001b[0;34m)\u001b[0m\u001b[0;34m\u001b[0m\u001b[0;34m\u001b[0m\u001b[0m\n\u001b[0m\u001b[1;32m    424\u001b[0m \u001b[0;34m\u001b[0m\u001b[0m\n\u001b[1;32m    425\u001b[0m     def approxSimilarityJoin(\n",
      "\u001b[0;32m/opt/homebrew/Caskroom/miniconda/base/envs/cmpe297/lib/python3.7/site-packages/pyspark/ml/wrapper.py\u001b[0m in \u001b[0;36m_call_java\u001b[0;34m(self, name, *args)\u001b[0m\n\u001b[1;32m     70\u001b[0m \u001b[0;34m\u001b[0m\u001b[0m\n\u001b[1;32m     71\u001b[0m         \u001b[0mjava_args\u001b[0m \u001b[0;34m=\u001b[0m \u001b[0;34m[\u001b[0m\u001b[0m_py2java\u001b[0m\u001b[0;34m(\u001b[0m\u001b[0msc\u001b[0m\u001b[0;34m,\u001b[0m \u001b[0marg\u001b[0m\u001b[0;34m)\u001b[0m \u001b[0;32mfor\u001b[0m \u001b[0marg\u001b[0m \u001b[0;32min\u001b[0m \u001b[0margs\u001b[0m\u001b[0;34m]\u001b[0m\u001b[0;34m\u001b[0m\u001b[0;34m\u001b[0m\u001b[0m\n\u001b[0;32m---> 72\u001b[0;31m         \u001b[0;32mreturn\u001b[0m \u001b[0m_java2py\u001b[0m\u001b[0;34m(\u001b[0m\u001b[0msc\u001b[0m\u001b[0;34m,\u001b[0m \u001b[0mm\u001b[0m\u001b[0;34m(\u001b[0m\u001b[0;34m*\u001b[0m\u001b[0mjava_args\u001b[0m\u001b[0;34m)\u001b[0m\u001b[0;34m)\u001b[0m\u001b[0;34m\u001b[0m\u001b[0;34m\u001b[0m\u001b[0m\n\u001b[0m\u001b[1;32m     73\u001b[0m \u001b[0;34m\u001b[0m\u001b[0m\n\u001b[1;32m     74\u001b[0m     \u001b[0;34m@\u001b[0m\u001b[0mstaticmethod\u001b[0m\u001b[0;34m\u001b[0m\u001b[0;34m\u001b[0m\u001b[0m\n",
      "\u001b[0;32m/opt/homebrew/Caskroom/miniconda/base/envs/cmpe297/lib/python3.7/site-packages/py4j/java_gateway.py\u001b[0m in \u001b[0;36m__call__\u001b[0;34m(self, *args)\u001b[0m\n\u001b[1;32m   1320\u001b[0m         \u001b[0manswer\u001b[0m \u001b[0;34m=\u001b[0m \u001b[0mself\u001b[0m\u001b[0;34m.\u001b[0m\u001b[0mgateway_client\u001b[0m\u001b[0;34m.\u001b[0m\u001b[0msend_command\u001b[0m\u001b[0;34m(\u001b[0m\u001b[0mcommand\u001b[0m\u001b[0;34m)\u001b[0m\u001b[0;34m\u001b[0m\u001b[0;34m\u001b[0m\u001b[0m\n\u001b[1;32m   1321\u001b[0m         return_value = get_return_value(\n\u001b[0;32m-> 1322\u001b[0;31m             answer, self.gateway_client, self.target_id, self.name)\n\u001b[0m\u001b[1;32m   1323\u001b[0m \u001b[0;34m\u001b[0m\u001b[0m\n\u001b[1;32m   1324\u001b[0m         \u001b[0;32mfor\u001b[0m \u001b[0mtemp_arg\u001b[0m \u001b[0;32min\u001b[0m \u001b[0mtemp_args\u001b[0m\u001b[0;34m:\u001b[0m\u001b[0;34m\u001b[0m\u001b[0;34m\u001b[0m\u001b[0m\n",
      "\u001b[0;32m/opt/homebrew/Caskroom/miniconda/base/envs/cmpe297/lib/python3.7/site-packages/pyspark/sql/utils.py\u001b[0m in \u001b[0;36mdeco\u001b[0;34m(*a, **kw)\u001b[0m\n\u001b[1;32m    188\u001b[0m     \u001b[0;32mdef\u001b[0m \u001b[0mdeco\u001b[0m\u001b[0;34m(\u001b[0m\u001b[0;34m*\u001b[0m\u001b[0ma\u001b[0m\u001b[0;34m:\u001b[0m \u001b[0mAny\u001b[0m\u001b[0;34m,\u001b[0m \u001b[0;34m**\u001b[0m\u001b[0mkw\u001b[0m\u001b[0;34m:\u001b[0m \u001b[0mAny\u001b[0m\u001b[0;34m)\u001b[0m \u001b[0;34m->\u001b[0m \u001b[0mAny\u001b[0m\u001b[0;34m:\u001b[0m\u001b[0;34m\u001b[0m\u001b[0;34m\u001b[0m\u001b[0m\n\u001b[1;32m    189\u001b[0m         \u001b[0;32mtry\u001b[0m\u001b[0;34m:\u001b[0m\u001b[0;34m\u001b[0m\u001b[0;34m\u001b[0m\u001b[0m\n\u001b[0;32m--> 190\u001b[0;31m             \u001b[0;32mreturn\u001b[0m \u001b[0mf\u001b[0m\u001b[0;34m(\u001b[0m\u001b[0;34m*\u001b[0m\u001b[0ma\u001b[0m\u001b[0;34m,\u001b[0m \u001b[0;34m**\u001b[0m\u001b[0mkw\u001b[0m\u001b[0;34m)\u001b[0m\u001b[0;34m\u001b[0m\u001b[0;34m\u001b[0m\u001b[0m\n\u001b[0m\u001b[1;32m    191\u001b[0m         \u001b[0;32mexcept\u001b[0m \u001b[0mPy4JJavaError\u001b[0m \u001b[0;32mas\u001b[0m \u001b[0me\u001b[0m\u001b[0;34m:\u001b[0m\u001b[0;34m\u001b[0m\u001b[0;34m\u001b[0m\u001b[0m\n\u001b[1;32m    192\u001b[0m             \u001b[0mconverted\u001b[0m \u001b[0;34m=\u001b[0m \u001b[0mconvert_exception\u001b[0m\u001b[0;34m(\u001b[0m\u001b[0me\u001b[0m\u001b[0;34m.\u001b[0m\u001b[0mjava_exception\u001b[0m\u001b[0;34m)\u001b[0m\u001b[0;34m\u001b[0m\u001b[0;34m\u001b[0m\u001b[0m\n",
      "\u001b[0;32m/opt/homebrew/Caskroom/miniconda/base/envs/cmpe297/lib/python3.7/site-packages/py4j/protocol.py\u001b[0m in \u001b[0;36mget_return_value\u001b[0;34m(answer, gateway_client, target_id, name)\u001b[0m\n\u001b[1;32m    330\u001b[0m                 raise Py4JError(\n\u001b[1;32m    331\u001b[0m                     \u001b[0;34m\"An error occurred while calling {0}{1}{2}. Trace:\\n{3}\\n\"\u001b[0m\u001b[0;34m.\u001b[0m\u001b[0;34m\u001b[0m\u001b[0;34m\u001b[0m\u001b[0m\n\u001b[0;32m--> 332\u001b[0;31m                     format(target_id, \".\", name, value))\n\u001b[0m\u001b[1;32m    333\u001b[0m         \u001b[0;32melse\u001b[0m\u001b[0;34m:\u001b[0m\u001b[0;34m\u001b[0m\u001b[0;34m\u001b[0m\u001b[0m\n\u001b[1;32m    334\u001b[0m             raise Py4JError(\n",
      "\u001b[0;31mPy4JError\u001b[0m: An error occurred while calling o199.approxNearestNeighbors. Trace:\npy4j.Py4JException: Method approxNearestNeighbors([class org.apache.spark.sql.Dataset, class org.apache.spark.sql.Dataset, class java.lang.Integer, class java.lang.String]) does not exist\n\tat py4j.reflection.ReflectionEngine.getMethod(ReflectionEngine.java:318)\n\tat py4j.reflection.ReflectionEngine.getMethod(ReflectionEngine.java:326)\n\tat py4j.Gateway.invoke(Gateway.java:274)\n\tat py4j.commands.AbstractCommand.invokeMethod(AbstractCommand.java:132)\n\tat py4j.commands.CallCommand.execute(CallCommand.java:79)\n\tat py4j.ClientServerConnection.waitForCommands(ClientServerConnection.java:182)\n\tat py4j.ClientServerConnection.run(ClientServerConnection.java:106)\n\tat java.base/java.lang.Thread.run(Thread.java:1589)\n\n"
     ]
    }
   ],
   "source": [
    "vspUsers = [(int(i), Vectors.sparse(max_iid+1, vu2irmap[i])) for i in vu2irmap] # need to convert numpy.int to int\n",
    "vdfUsers = spark.createDataFrame(vspUsers, [\"uid\", \"features\"])\n",
    "model.approxNearestNeighbors(dfUsers, vdfUsers, 5).collect()\n",
    "approxNearestNeighbors"
   ]
  },
  {
   "cell_type": "code",
   "execution_count": 84,
   "id": "e3882ee2",
   "metadata": {},
   "outputs": [],
   "source": [
    ">>> data2 = [(3, Vectors.sparse(6, [1, 3, 5], [1.0, 1.0, 1.0]),),\n",
    "...          (4, Vectors.sparse(6, [2, 3, 5], [1.0, 1.0, 1.0]),),\n",
    "...          (5, Vectors.sparse(6, [1, 2, 4], [1.0, 1.0, 1.0]),)]\n",
    ">>> df2 = spark.createDataFrame(data2, [\"id\", \"features\"])\n",
    ">>> key = Vectors.sparse(6, [1, 2], [1.0, 1.0])\n",
    ">>> model.approxNearestNeighbors(df2, key, 1).collect()"
   ]
  },
  {
   "cell_type": "code",
   "execution_count": 87,
   "id": "4da89257",
   "metadata": {},
   "outputs": [
    {
     "data": {
      "text/plain": [
       "Row(uid=908, features=SparseVector(1700, {485: 2.0, 486: 2.0, 487: 2.0, 488: 3.0, 489: 3.0, 492: 4.0, 506: 4.0, 605: 2.0, 610: 3.0, 626: 3.0, 627: 5.0, 648: 2.0, 653: 1.0, 654: 3.0, 658: 3.0, 659: 3.0, 660: 3.0, 663: 2.0, 667: 2.0, 677: 2.0, 684: 2.0, 686: 3.0, 688: 4.0, 689: 3.0, 702: 2.0, 714: 2.0, 716: 2.0, 720: 3.0, 723: 2.0, 739: 4.0, 751: 3.0, 753: 4.0, 766: 2.0, 769: 1.0, 770: 2.0, 772: 3.0, 775: 3.0, 855: 3.0, 859: 3.0, 866: 1.0, 874: 2.0, 875: 4.0, 877: 4.0, 880: 1.0, 898: 2.0, 900: 3.0, 911: 5.0, 915: 3.0, 919: 3.0, 920: 3.0, 929: 1.0, 939: 2.0, 942: 1.0, 944: 3.0, 945: 3.0, 952: 3.0, 957: 2.0, 958: 3.0, 963: 4.0, 965: 3.0, 968: 3.0, 971: 4.0, 972: 3.0, 973: 4.0, 975: 3.0, 978: 3.0, 980: 3.0, 983: 3.0, 985: 4.0, 988: 3.0, 993: 4.0, 996: 3.0, 998: 3.0, 1008: 4.0, 1016: 3.0, 1021: 4.0, 1022: 2.0, 1026: 4.0, 1027: 4.0, 1028: 3.0, 1037: 4.0, 1040: 4.0, 1042: 3.0, 1049: 4.0, 1058: 3.0, 1060: 5.0, 1064: 3.0, 1069: 4.0, 1072: 4.0, 1073: 3.0, 1080: 3.0, 1081: 4.0, 1104: 2.0, 1105: 3.0, 1109: 4.0, 1117: 3.0, 1118: 5.0, 1119: 4.0, 1123: 3.0, 1124: 2.0, 1125: 2.0, 1132: 3.0, 1134: 4.0, 1139: 3.0, 1142: 3.0, 1149: 2.0, 1154: 2.0, 1169: 4.0, 1192: 5.0, 1196: 3.0, 1200: 4.0, 1225: 5.0, 1226: 4.0, 1229: 4.0, 1234: 4.0, 1237: 4.0, 1244: 2.0, 1245: 2.0, 1248: 2.0, 1249: 3.0, 1251: 3.0, 1264: 4.0, 1268: 3.0, 1272: 4.0, 1275: 4.0, 1277: 3.0, 1279: 4.0, 1289: 4.0, 1291: 3.0, 1292: 4.0, 1295: 2.0, 1297: 4.0, 1298: 3.0, 1299: 3.0, 1304: 3.0, 1307: 3.0, 1314: 3.0, 1315: 4.0, 1317: 1.0, 1318: 4.0, 1324: 3.0, 1330: 1.0, 1332: 1.0, 1333: 3.0, 1336: 3.0, 1337: 3.0, 1344: 3.0, 1378: 3.0, 1382: 2.0, 1387: 5.0, 1393: 4.0, 1405: 2.0, 1406: 3.0, 1409: 4.0, 1412: 3.0, 1416: 2.0, 1419: 3.0, 1422: 3.0, 1424: 5.0, 1427: 4.0, 1429: 2.0, 1432: 4.0, 1435: 4.0, 1440: 1.0, 1442: 4.0, 1443: 2.0, 1448: 4.0, 1450: 4.0, 1451: 3.0, 1452: 4.0, 1454: 4.0, 1455: 4.0, 1460: 2.0, 1462: 5.0, 1463: 4.0, 1465: 3.0, 1469: 3.0, 1472: 4.0, 1473: 1.0, 1477: 5.0, 1478: 4.0, 1480: 1.0, 1488: 4.0, 1490: 4.0, 1491: 5.0, 1492: 4.0, 1496: 4.0, 1497: 4.0, 1498: 3.0, 1500: 3.0, 1501: 3.0, 1502: 5.0, 1504: 4.0, 1505: 5.0, 1507: 4.0, 1509: 4.0, 1510: 4.0, 1511: 4.0, 1516: 3.0, 1518: 4.0, 1519: 4.0, 1521: 5.0, 1525: 4.0, 1526: 5.0, 1527: 3.0, 1529: 4.0, 1533: 3.0, 1539: 2.0, 1541: 4.0, 1544: 4.0, 1545: 2.0, 1546: 4.0, 1552: 2.0, 1553: 2.0, 1555: 2.0, 1556: 4.0, 1557: 3.0, 1565: 4.0, 1566: 4.0, 1568: 3.0, 1571: 4.0, 1575: 4.0, 1576: 4.0, 1577: 2.0, 1578: 3.0, 1580: 2.0, 1582: 2.0, 1583: 4.0, 1589: 3.0, 1591: 3.0, 1598: 2.0, 1600: 5.0, 1602: 5.0, 1604: 4.0, 1605: 3.0, 1606: 3.0, 1608: 4.0, 1609: 3.0, 1611: 5.0, 1613: 3.0, 1615: 3.0, 1620: 2.0, 1622: 3.0, 1627: 3.0, 1628: 3.0, 1629: 5.0, 1631: 5.0, 1632: 3.0, 1633: 3.0, 1634: 3.0, 1636: 4.0, 1637: 3.0, 1638: 3.0, 1642: 4.0, 1644: 5.0, 1645: 3.0, 1646: 3.0, 1647: 3.0, 1650: 5.0, 1651: 3.0, 1653: 4.0, 1656: 3.0, 1657: 3.0, 1658: 4.0, 1660: 3.0, 1662: 3.0, 1668: 3.0, 1669: 4.0, 1671: 3.0, 1672: 3.0, 1675: 3.0, 1678: 3.0, 1688: 5.0, 1689: 4.0, 1692: 5.0, 1693: 4.0, 1695: 4.0, 1699: 4.0}), hashes=[DenseVector([3246246.0]), DenseVector([16257237.0]), DenseVector([14070118.0]), DenseVector([4531355.0]), DenseVector([1301496.0])])"
      ]
     },
     "execution_count": 87,
     "metadata": {},
     "output_type": "execute_result"
    }
   ],
   "source": []
  },
  {
   "cell_type": "code",
   "execution_count": 85,
   "id": "f3e38ff4",
   "metadata": {},
   "outputs": [
    {
     "name": "stdout",
     "output_type": "stream",
     "text": [
      "The hashed dataset where hashed values are stored in the column 'hashes':\n",
      "+---+--------------------+--------------------+\n",
      "|uid|            features|              hashes|\n",
      "+---+--------------------+--------------------+\n",
      "|908|(1700,[485,486,48...|[[3246246.0], [1....|\n",
      "|646|(1700,[189,234,45...|[[4414153.0], [62...|\n",
      "|697|(1700,[189,190,19...|[[1359174.0], [10...|\n",
      "|752|(1700,[846,894,10...|[[5.2396333E7], [...|\n",
      "|947|(1700,[776,952,11...|[[6.8390393E7], [...|\n",
      "|849|(1700,[401,403,41...|[[7469132.0], [47...|\n",
      "|827|(1700,[435,716,76...|[[1.2411183E7], [...|\n",
      "|357|(1700,[561,599,62...|[[7.8274495E7], [...|\n",
      "|688|(1700,[184,249,40...|[[7469132.0], [99...|\n",
      "|863|(1700,[583,672,80...|[[1.16372573E8], ...|\n",
      "|705|(1700,[197,227,24...|[[7469132.0], [1....|\n",
      "|858|(1700,[805,1237,1...|[[7.1445372E7], [...|\n",
      "|674|(1700,[469,731,75...|[[9.7323534E7], [...|\n",
      "|855|(1700,[408,409,41...|[[3246246.0], [73...|\n",
      "|999|(1700,[1428,1429,...|[[7469132.0], [62...|\n",
      "|609|(1700,[537,599,73...|[[4.9341354E7], [...|\n",
      "|859|(1700,[417,418,42...|[[4.4399303E7], [...|\n",
      "|548|(1700,[273,297,44...|[[7469132.0], [10...|\n",
      "|118|(1700,[256,288,64...|[[4.9341354E7], [...|\n",
      "|565|(1700,[281,289,29...|[[9356204.0], [10...|\n",
      "+---+--------------------+--------------------+\n",
      "only showing top 20 rows\n",
      "\n"
     ]
    }
   ],
   "source": [
    "print(\"The hashed dataset where hashed values are stored in the column 'hashes':\")\n",
    "model.transform(dfUsers).show()"
   ]
  },
  {
   "cell_type": "code",
   "execution_count": null,
   "id": "26403540",
   "metadata": {},
   "outputs": [],
   "source": []
  }
 ],
 "metadata": {
  "kernelspec": {
   "display_name": "Python 3 (ipykernel)",
   "language": "python",
   "name": "python3"
  },
  "language_info": {
   "codemirror_mode": {
    "name": "ipython",
    "version": 3
   },
   "file_extension": ".py",
   "mimetype": "text/x-python",
   "name": "python",
   "nbconvert_exporter": "python",
   "pygments_lexer": "ipython3",
   "version": "3.7.15"
  }
 },
 "nbformat": 4,
 "nbformat_minor": 5
}
