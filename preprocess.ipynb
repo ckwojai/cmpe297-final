{
 "cells": [
  {
   "cell_type": "code",
   "execution_count": 18,
   "id": "6bc8b423",
   "metadata": {},
   "outputs": [],
   "source": [
    "import json\n",
    "import pandas as pd\n",
    "from sklearn.model_selection import train_test_split"
   ]
  },
  {
   "cell_type": "markdown",
   "id": "0e4303e8",
   "metadata": {},
   "source": [
    "# Data Examination"
   ]
  },
  {
   "cell_type": "code",
   "execution_count": 6,
   "id": "b089afb3",
   "metadata": {},
   "outputs": [
    {
     "data": {
      "text/html": [
       "<div>\n",
       "<style scoped>\n",
       "    .dataframe tbody tr th:only-of-type {\n",
       "        vertical-align: middle;\n",
       "    }\n",
       "\n",
       "    .dataframe tbody tr th {\n",
       "        vertical-align: top;\n",
       "    }\n",
       "\n",
       "    .dataframe thead th {\n",
       "        text-align: right;\n",
       "    }\n",
       "</style>\n",
       "<table border=\"1\" class=\"dataframe\">\n",
       "  <thead>\n",
       "    <tr style=\"text-align: right;\">\n",
       "      <th></th>\n",
       "      <th>uid</th>\n",
       "      <th>iid</th>\n",
       "      <th>rating</th>\n",
       "      <th>ts</th>\n",
       "    </tr>\n",
       "  </thead>\n",
       "  <tbody>\n",
       "    <tr>\n",
       "      <th>0</th>\n",
       "      <td>905</td>\n",
       "      <td>470</td>\n",
       "      <td>1</td>\n",
       "      <td>889325071</td>\n",
       "    </tr>\n",
       "    <tr>\n",
       "      <th>1</th>\n",
       "      <td>697</td>\n",
       "      <td>1518</td>\n",
       "      <td>5</td>\n",
       "      <td>879835275</td>\n",
       "    </tr>\n",
       "    <tr>\n",
       "      <th>2</th>\n",
       "      <td>855</td>\n",
       "      <td>1687</td>\n",
       "      <td>5</td>\n",
       "      <td>875638677</td>\n",
       "    </tr>\n",
       "    <tr>\n",
       "      <th>3</th>\n",
       "      <td>950</td>\n",
       "      <td>1447</td>\n",
       "      <td>5</td>\n",
       "      <td>877420720</td>\n",
       "    </tr>\n",
       "    <tr>\n",
       "      <th>4</th>\n",
       "      <td>806</td>\n",
       "      <td>1170</td>\n",
       "      <td>4</td>\n",
       "      <td>879889337</td>\n",
       "    </tr>\n",
       "    <tr>\n",
       "      <th>...</th>\n",
       "      <td>...</td>\n",
       "      <td>...</td>\n",
       "      <td>...</td>\n",
       "      <td>...</td>\n",
       "    </tr>\n",
       "    <tr>\n",
       "      <th>85719</th>\n",
       "      <td>205</td>\n",
       "      <td>1136</td>\n",
       "      <td>1</td>\n",
       "      <td>884142487</td>\n",
       "    </tr>\n",
       "    <tr>\n",
       "      <th>85720</th>\n",
       "      <td>708</td>\n",
       "      <td>1497</td>\n",
       "      <td>4</td>\n",
       "      <td>881473612</td>\n",
       "    </tr>\n",
       "    <tr>\n",
       "      <th>85721</th>\n",
       "      <td>167</td>\n",
       "      <td>1036</td>\n",
       "      <td>3</td>\n",
       "      <td>875492395</td>\n",
       "    </tr>\n",
       "    <tr>\n",
       "      <th>85722</th>\n",
       "      <td>508</td>\n",
       "      <td>1528</td>\n",
       "      <td>3</td>\n",
       "      <td>880337585</td>\n",
       "    </tr>\n",
       "    <tr>\n",
       "      <th>85723</th>\n",
       "      <td>76</td>\n",
       "      <td>1586</td>\n",
       "      <td>3</td>\n",
       "      <td>886695894</td>\n",
       "    </tr>\n",
       "  </tbody>\n",
       "</table>\n",
       "<p>85724 rows × 4 columns</p>\n",
       "</div>"
      ],
      "text/plain": [
       "       uid   iid  rating         ts\n",
       "0      905   470       1  889325071\n",
       "1      697  1518       5  879835275\n",
       "2      855  1687       5  875638677\n",
       "3      950  1447       5  877420720\n",
       "4      806  1170       4  879889337\n",
       "...    ...   ...     ...        ...\n",
       "85719  205  1136       1  884142487\n",
       "85720  708  1497       4  881473612\n",
       "85721  167  1036       3  875492395\n",
       "85722  508  1528       3  880337585\n",
       "85723   76  1586       3  886695894\n",
       "\n",
       "[85724 rows x 4 columns]"
      ]
     },
     "execution_count": 6,
     "metadata": {},
     "output_type": "execute_result"
    }
   ],
   "source": [
    "train_raw = pd.read_csv('train.dat', header=None,\n",
    "            names=[\"uid\", \"iid\", \"rating\", \"ts\"], sep='\\t', engine='python')\n",
    "train_raw"
   ]
  },
  {
   "cell_type": "code",
   "execution_count": 7,
   "id": "13210181",
   "metadata": {},
   "outputs": [],
   "source": [
    "train = set(train_raw[\"uid\"].values.tolist())"
   ]
  },
  {
   "cell_type": "code",
   "execution_count": 260,
   "id": "5f7ee8d4",
   "metadata": {},
   "outputs": [],
   "source": [
    "max_iid = train_raw.iid.max() # 1699"
   ]
  },
  {
   "cell_type": "markdown",
   "id": "81d740e8",
   "metadata": {},
   "source": [
    "# Data Transformation"
   ]
  },
  {
   "cell_type": "code",
   "execution_count": 10,
   "id": "5a46c5fe",
   "metadata": {},
   "outputs": [],
   "source": [
    "max_iid = 1699 # result from train_raw\n",
    "u2irmap = {}\n",
    "i2umap = {}"
   ]
  },
  {
   "cell_type": "code",
   "execution_count": 11,
   "id": "2f1d715d",
   "metadata": {},
   "outputs": [],
   "source": [
    "for _, r in train_raw.iterrows():\n",
    "    uid, iid = int(r.uid), int(r.iid)\n",
    "    if uid not in u2irmap:\n",
    "        u2irmap[uid] = {}\n",
    "    u2irmap[uid][iid] = int(r.rating)\n",
    "    if iid not in i2umap:\n",
    "        i2umap[iid] = set()\n",
    "    i2umap[iid].add(uid)"
   ]
  },
  {
   "cell_type": "code",
   "execution_count": 12,
   "id": "547e6131",
   "metadata": {},
   "outputs": [
    {
     "name": "stdout",
     "output_type": "stream",
     "text": [
      "943\n",
      "1659\n"
     ]
    }
   ],
   "source": [
    "print(len(u2irmap)) # 943 unique users\n",
    "print(len(i2umap)) # 1659 unique items"
   ]
  },
  {
   "cell_type": "code",
   "execution_count": 312,
   "id": "c559a966",
   "metadata": {},
   "outputs": [],
   "source": [
    "# Saving\n",
    "with open(\"all.json\", \"w\") as outfile:\n",
    "    json.dump(u2irmap, outfile)\n",
    "# Loading  \n",
    "with open(\"all.json\", \"r\") as content:\n",
    "    all = json.load(content)\n",
    "u2irmap = {int(k): {int(mk): int(mv) for mk, mv in v.items()} for k, v in all.items()}"
   ]
  },
  {
   "cell_type": "markdown",
   "id": "d7d99bdb",
   "metadata": {},
   "source": [
    "# Train-Validation Split"
   ]
  },
  {
   "cell_type": "code",
   "execution_count": 310,
   "id": "3669faec",
   "metadata": {},
   "outputs": [],
   "source": [
    "from sklearn.model_selection import train_test_split\n",
    "\n",
    "s = pd.Series(u2irmap)\n",
    "train_set, valid_set  = [i.to_dict() for i in train_test_split(s, test_size=0.1)]\n",
    "train_set = {int(k): {int(mk): int(mv) for mk, mv in v.items()} for k, v in train_set.items()}\n",
    "valid_set = {int(k): {int(mk): int(mv) for mk, mv in v.items()} for k, v in valid_set.items()}"
   ]
  },
  {
   "cell_type": "code",
   "execution_count": 327,
   "id": "b9267475",
   "metadata": {},
   "outputs": [],
   "source": [
    "with open(\"train_set.json\", \"w\") as outfile:\n",
    "    json.dump(train_set, outfile)\n",
    "with open(\"valid_set.json\", \"w\") as outfile:\n",
    "    json.dump(valid_set, outfile)"
   ]
  },
  {
   "cell_type": "code",
   "execution_count": 196,
   "id": "a1adfa76",
   "metadata": {},
   "outputs": [
    {
     "data": {
      "text/html": [
       "<div>\n",
       "<style scoped>\n",
       "    .dataframe tbody tr th:only-of-type {\n",
       "        vertical-align: middle;\n",
       "    }\n",
       "\n",
       "    .dataframe tbody tr th {\n",
       "        vertical-align: top;\n",
       "    }\n",
       "\n",
       "    .dataframe thead th {\n",
       "        text-align: right;\n",
       "    }\n",
       "</style>\n",
       "<table border=\"1\" class=\"dataframe\">\n",
       "  <thead>\n",
       "    <tr style=\"text-align: right;\">\n",
       "      <th></th>\n",
       "      <th>uid</th>\n",
       "      <th>iid</th>\n",
       "    </tr>\n",
       "  </thead>\n",
       "  <tbody>\n",
       "    <tr>\n",
       "      <th>0</th>\n",
       "      <td>158</td>\n",
       "      <td>951</td>\n",
       "    </tr>\n",
       "    <tr>\n",
       "      <th>1</th>\n",
       "      <td>521</td>\n",
       "      <td>1202</td>\n",
       "    </tr>\n",
       "    <tr>\n",
       "      <th>2</th>\n",
       "      <td>98</td>\n",
       "      <td>1556</td>\n",
       "    </tr>\n",
       "    <tr>\n",
       "      <th>3</th>\n",
       "      <td>292</td>\n",
       "      <td>1583</td>\n",
       "    </tr>\n",
       "    <tr>\n",
       "      <th>4</th>\n",
       "      <td>68</td>\n",
       "      <td>1064</td>\n",
       "    </tr>\n",
       "    <tr>\n",
       "      <th>...</th>\n",
       "      <td>...</td>\n",
       "      <td>...</td>\n",
       "    </tr>\n",
       "    <tr>\n",
       "      <th>2149</th>\n",
       "      <td>537</td>\n",
       "      <td>1414</td>\n",
       "    </tr>\n",
       "    <tr>\n",
       "      <th>2150</th>\n",
       "      <td>618</td>\n",
       "      <td>1448</td>\n",
       "    </tr>\n",
       "    <tr>\n",
       "      <th>2151</th>\n",
       "      <td>154</td>\n",
       "      <td>1519</td>\n",
       "    </tr>\n",
       "    <tr>\n",
       "      <th>2152</th>\n",
       "      <td>154</td>\n",
       "      <td>1429</td>\n",
       "    </tr>\n",
       "    <tr>\n",
       "      <th>2153</th>\n",
       "      <td>826</td>\n",
       "      <td>1602</td>\n",
       "    </tr>\n",
       "  </tbody>\n",
       "</table>\n",
       "<p>2154 rows × 2 columns</p>\n",
       "</div>"
      ],
      "text/plain": [
       "      uid   iid\n",
       "0     158   951\n",
       "1     521  1202\n",
       "2      98  1556\n",
       "3     292  1583\n",
       "4      68  1064\n",
       "...   ...   ...\n",
       "2149  537  1414\n",
       "2150  618  1448\n",
       "2151  154  1519\n",
       "2152  154  1429\n",
       "2153  826  1602\n",
       "\n",
       "[2154 rows x 2 columns]"
      ]
     },
     "execution_count": 196,
     "metadata": {},
     "output_type": "execute_result"
    }
   ],
   "source": [
    "test_raw = pd.read_csv('test.dat', header=None,\n",
    "            names=[\"uid\", \"iid\"], sep='\\t', engine='python')\n",
    "test_raw"
   ]
  },
  {
   "cell_type": "markdown",
   "id": "081b83eb",
   "metadata": {},
   "source": [
    "# Running Model"
   ]
  },
  {
   "cell_type": "code",
   "execution_count": 16,
   "id": "88b80bea",
   "metadata": {},
   "outputs": [],
   "source": [
    "from pyspark.ml.linalg import Vectors\n",
    "from pyspark.ml.feature import MinHashLSH"
   ]
  },
  {
   "cell_type": "code",
   "execution_count": 19,
   "id": "083d6453",
   "metadata": {},
   "outputs": [],
   "source": [
    "with open(\"train_set.json\", \"r\") as content:\n",
    "    train_set = json.load(content)\n",
    "train_set = {int(k): {int(mk): int(mv) for mk, mv in v.items()} for k, v in train_set.items()}\n",
    "u2irmap = train_set\n",
    "#test_set = {int(k): {int(mk): int(mv) for mk, mv in v.items()} for k, v in test_set.items()}"
   ]
  },
  {
   "cell_type": "code",
   "execution_count": 20,
   "id": "fe6c4f12",
   "metadata": {},
   "outputs": [],
   "source": [
    "max_iid = 1699 # result from train_raw\n",
    "i2umap = {}"
   ]
  },
  {
   "cell_type": "code",
   "execution_count": 21,
   "id": "f8f9adb9",
   "metadata": {},
   "outputs": [],
   "source": [
    "for uid, uimap in u2irmap.items():\n",
    "    for iid, rating in uimap.items():\n",
    "        if iid not in i2umap:\n",
    "            i2umap[iid] = set()\n",
    "        i2umap[iid].add(uid)"
   ]
  },
  {
   "cell_type": "code",
   "execution_count": 22,
   "id": "937cf33b",
   "metadata": {},
   "outputs": [
    {
     "name": "stderr",
     "output_type": "stream",
     "text": [
      "Setting default log level to \"WARN\".\n",
      "To adjust logging level use sc.setLogLevel(newLevel). For SparkR, use setLogLevel(newLevel).\n"
     ]
    },
    {
     "name": "stdout",
     "output_type": "stream",
     "text": [
      "22/12/13 23:44:49 WARN NativeCodeLoader: Unable to load native-hadoop library for your platform... using builtin-java classes where applicable\n",
      "22/12/13 23:44:50 WARN Utils: Service 'SparkUI' could not bind on port 4040. Attempting port 4041.\n"
     ]
    }
   ],
   "source": [
    "from pyspark.context import SparkContext\n",
    "from pyspark.sql.session import SparkSession\n",
    "sc = SparkContext('local')\n",
    "spark = SparkSession(sc)"
   ]
  },
  {
   "cell_type": "markdown",
   "id": "cd8a1b38",
   "metadata": {},
   "source": [
    "## Prediction Function"
   ]
  },
  {
   "cell_type": "code",
   "execution_count": 14,
   "id": "f724309c",
   "metadata": {},
   "outputs": [],
   "source": [
    "# expect to have:\n",
    "# u2irmap (user-to-item-ratings map), and\n",
    "# i2umap (item-to-users map)\n",
    "def predict_rating(itemid, userhistory, num_neighbors=10, num_hash_tables=20):\n",
    "    if itemid not in i2umap or len(userhistory) == 0: # no rating has given for this item, can't predict\n",
    "        return None\n",
    "    userDs = [(int(uid), Vectors.sparse(max_iid+1, u2irmap[uid])) for uid in u2irmap if uid in i2umap[itemid]]\n",
    "    dfUsers = spark.createDataFrame(userDs, [\"uid\", \"features\"])\n",
    "    mh = MinHashLSH(inputCol=\"features\", outputCol=\"hashes\", numHashTables=num_hash_tables)\n",
    "    model = mh.fit(dfUsers)\n",
    "    key = Vectors.sparse(max_iid+1, userhistory) # item_history expect to be a dict {<item>: rating}\n",
    "    rows = model.approxNearestNeighbors(dfUsers, key, num_neighbors)\n",
    "    ratings = []\n",
    "    for r in rows.collect():\n",
    "        ratings.append(u2irmap[r[\"uid\"]][itemid])\n",
    "    return int(round(sum(ratings) / len(ratings))) if ratings else None"
   ]
  },
  {
   "cell_type": "markdown",
   "id": "d7605eab",
   "metadata": {},
   "source": [
    "## Running Validation Set and get RMSE"
   ]
  },
  {
   "cell_type": "code",
   "execution_count": 23,
   "id": "b1fdaa89",
   "metadata": {},
   "outputs": [],
   "source": [
    "with open(\"valid_set.json\", \"r\") as content:\n",
    "    valid_set = json.load(content)\n",
    "valid_set = {int(k): {int(mk): int(mv) for mk, mv in v.items()} for k, v in valid_set.items()}\n",
    "vu2irmap = valid_set"
   ]
  },
  {
   "cell_type": "code",
   "execution_count": 24,
   "id": "4236740a",
   "metadata": {},
   "outputs": [],
   "source": [
    "def get_user_history_without_item(user_history, itemid):\n",
    "    user_history_without_item = user_history.copy()\n",
    "    user_history_without_item.pop(itemid)\n",
    "    return user_history_without_item"
   ]
  },
  {
   "cell_type": "code",
   "execution_count": 25,
   "id": "1ab693b3",
   "metadata": {},
   "outputs": [
    {
     "name": "stdout",
     "output_type": "stream",
     "text": [
      "Processing user 890, 1/85\n"
     ]
    },
    {
     "name": "stderr",
     "output_type": "stream",
     "text": [
      "                                                                                \r"
     ]
    },
    {
     "name": "stdout",
     "output_type": "stream",
     "text": [
      "Processing user 719, 2/85\n",
      "Processing user 594, 3/85\n",
      "Processing user 698, 4/85\n",
      "Processing user 468, 5/85\n",
      "Processing user 326, 6/85\n",
      "Processing user 338, 7/85\n",
      "No predicted for user: 338, item: 48\n",
      "No predicted for user: 338, item: 358\n",
      "Processing user 472, 8/85\n",
      "No predicted for user: 472, item: 82\n",
      "Processing user 547, 9/85\n",
      "Processing user 956, 10/85\n",
      "Processing user 604, 11/85\n",
      "Processing user 740, 12/85\n",
      "Processing user 663, 13/85\n",
      "Processing user 159, 14/85\n",
      "Processing user 102, 15/85\n",
      "Processing user 181, 16/85\n",
      "Processing user 388, 17/85\n",
      "Processing user 64, 18/85\n",
      "Processing user 581, 19/85\n",
      "Processing user 692, 20/85\n",
      "No predicted for user: 692, item: 185\n",
      "Processing user 931, 21/85\n",
      "No predicted for user: 931, item: 556\n",
      "Processing user 249, 22/85\n",
      "No predicted for user: 249, item: 39\n",
      "Processing user 126, 23/85\n",
      "Processing user 495, 24/85\n",
      "Processing user 250, 25/85\n",
      "Processing user 382, 26/85\n",
      "Processing user 122, 27/85\n",
      "Processing user 681, 28/85\n",
      "Processing user 642, 29/85\n",
      "No predicted for user: 642, item: 1057\n",
      "Processing user 705, 30/85\n",
      "Processing user 232, 31/85\n",
      "Processing user 406, 32/85\n",
      "Processing user 191, 33/85\n",
      "Processing user 300, 34/85\n",
      "Processing user 669, 35/85\n",
      "Processing user 215, 36/85\n",
      "Processing user 557, 37/85\n",
      "Processing user 548, 38/85\n",
      "No predicted for user: 548, item: 166\n",
      "No predicted for user: 548, item: 317\n",
      "Processing user 444, 39/85\n",
      "Processing user 650, 40/85\n",
      "Processing user 832, 41/85\n",
      "Processing user 753, 42/85\n",
      "Processing user 657, 43/85\n",
      "Processing user 360, 44/85\n",
      "Processing user 765, 45/85\n",
      "Processing user 973, 46/85\n",
      "Processing user 867, 47/85\n",
      "Processing user 720, 48/85\n",
      "Processing user 114, 49/85\n",
      "Processing user 190, 50/85\n",
      "Processing user 899, 51/85\n",
      "Processing user 970, 52/85\n",
      "Processing user 371, 53/85\n",
      "Processing user 552, 54/85\n",
      "Processing user 305, 55/85\n",
      "Processing user 228, 56/85\n",
      "Processing user 467, 57/85\n",
      "Processing user 922, 58/85\n",
      "Processing user 390, 59/85\n",
      "Processing user 584, 60/85\n",
      "Processing user 488, 61/85\n",
      "Processing user 481, 62/85\n",
      "Processing user 884, 63/85\n",
      "Processing user 416, 64/85\n",
      "Processing user 123, 65/85\n",
      "Processing user 682, 66/85\n",
      "Processing user 629, 67/85\n",
      "Processing user 901, 68/85\n",
      "Processing user 477, 69/85\n",
      "Processing user 63, 70/85\n",
      "Processing user 878, 71/85\n",
      "Processing user 519, 72/85\n",
      "Processing user 277, 73/85\n",
      "Processing user 91, 74/85\n",
      "Processing user 293, 75/85\n",
      "Processing user 868, 76/85\n",
      "Processing user 796, 77/85\n",
      "Processing user 476, 78/85\n",
      "Processing user 672, 79/85\n",
      "Processing user 205, 80/85\n",
      "Processing user 684, 81/85\n",
      "Processing user 623, 82/85\n",
      "Processing user 996, 83/85\n",
      "Processing user 544, 84/85\n",
      "No predicted for user: 544, item: 153\n",
      "No predicted for user: 544, item: 96\n",
      "Processing user 237, 85/85\n",
      "--- 732.5362410545349 seconds ---\n"
     ]
    }
   ],
   "source": [
    "import time\n",
    "from math import sqrt\n",
    "def get_user_history_without_item(user_history, itemid):\n",
    "    user_history_without_item = user_history.copy()\n",
    "    user_history_without_item.pop(itemid)\n",
    "    return user_history_without_item\n",
    "rmse_total = []\n",
    "start_time = time.time()\n",
    "for index, uid in enumerate(list(vu2irmap.keys())):\n",
    "    print(f\"Processing user {uid}, {index+1}/{len(vu2irmap)}\")\n",
    "    user_history = vu2irmap[uid]\n",
    "    rmse_user = []\n",
    "    for iid in user_history:\n",
    "        expected = user_history[iid]\n",
    "        uh = get_user_history_without_item(user_history, iid)\n",
    "        predicted = predict_rating(iid, uh)\n",
    "        if predicted:\n",
    "            rmse_user.append((expected - predicted)**2)\n",
    "        else:\n",
    "            print(f\"No predicted for user: {uid}, item: {iid}\")\n",
    "    if rmse_user:\n",
    "        rmse_total.append(sqrt(sum(rmse_user) / len(rmse_user)))\n",
    "    else:\n",
    "        print(f\"no rmse_user for user {uid}\")\n",
    "print(\"--- %s seconds ---\" % (time.time() - start_time))"
   ]
  },
  {
   "cell_type": "code",
   "execution_count": 13,
   "id": "f5bea699",
   "metadata": {},
   "outputs": [
    {
     "ename": "NameError",
     "evalue": "name 'rmse_total' is not defined",
     "output_type": "error",
     "traceback": [
      "\u001b[0;31m---------------------------------------------------------------------------\u001b[0m",
      "\u001b[0;31mNameError\u001b[0m                                 Traceback (most recent call last)",
      "\u001b[0;32m/var/folders/4r/z4c5m78x2tqgbkj8hx9jx2cm0000gn/T/ipykernel_51820/977719477.py\u001b[0m in \u001b[0;36m<module>\u001b[0;34m\u001b[0m\n\u001b[0;32m----> 1\u001b[0;31m \u001b[0mmap\u001b[0m\u001b[0;34m(\u001b[0m\u001b[0;32mlambda\u001b[0m \u001b[0mx\u001b[0m\u001b[0;34m:\u001b[0m \u001b[0mx\u001b[0m \u001b[0;34m**\u001b[0m \u001b[0;36m2\u001b[0m\u001b[0;34m,\u001b[0m \u001b[0mrmse_total\u001b[0m\u001b[0;34m)\u001b[0m\u001b[0;34m\u001b[0m\u001b[0;34m\u001b[0m\u001b[0m\n\u001b[0m\u001b[1;32m      2\u001b[0m \u001b[0mrmse\u001b[0m \u001b[0;34m=\u001b[0m \u001b[0msqrt\u001b[0m\u001b[0;34m(\u001b[0m\u001b[0msum\u001b[0m\u001b[0;34m(\u001b[0m\u001b[0mrmse_total\u001b[0m\u001b[0;34m)\u001b[0m\u001b[0;34m/\u001b[0m\u001b[0mlen\u001b[0m\u001b[0;34m(\u001b[0m\u001b[0mrmse_total\u001b[0m\u001b[0;34m)\u001b[0m\u001b[0;34m)\u001b[0m\u001b[0;34m\u001b[0m\u001b[0;34m\u001b[0m\u001b[0m\n",
      "\u001b[0;31mNameError\u001b[0m: name 'rmse_total' is not defined"
     ]
    }
   ],
   "source": [
    "map(lambda x: x ** 2, rmse_total)\n",
    "rmse = sqrt(sum(rmse_total)/len(rmse_total))"
   ]
  },
  {
   "cell_type": "code",
   "execution_count": 175,
   "id": "588e12ce",
   "metadata": {},
   "outputs": [
    {
     "data": {
      "text/plain": [
       "1.0311541929735746"
      ]
     },
     "execution_count": 175,
     "metadata": {},
     "output_type": "execute_result"
    }
   ],
   "source": [
    "rmse"
   ]
  },
  {
   "cell_type": "markdown",
   "id": "05456aa9",
   "metadata": {},
   "source": [
    "# LSH Build Time"
   ]
  },
  {
   "cell_type": "code",
   "execution_count": 26,
   "id": "6a61bac5",
   "metadata": {},
   "outputs": [],
   "source": [
    "# Loading  \n",
    "with open(\"all.json\", \"r\") as content:\n",
    "    all = json.load(content)\n",
    "u2irmap = {int(k): {int(mk): int(mv) for mk, mv in v.items()} for k, v in all.items()}"
   ]
  },
  {
   "cell_type": "code",
   "execution_count": 29,
   "id": "1f2a829f",
   "metadata": {},
   "outputs": [
    {
     "name": "stdout",
     "output_type": "stream",
     "text": [
      "22/12/14 01:40:21 WARN TaskSetManager: Stage 14629 contains a task of very large size (1027 KiB). The maximum recommended task size is 1000 KiB.\n",
      "--- 0.039320945739746094 seconds ---\n"
     ]
    }
   ],
   "source": [
    "num_hash_tables=20\n",
    "userDs = [(int(uid), Vectors.sparse(max_iid+1, u2irmap[uid])) for uid in u2irmap]\n",
    "dfUsers = spark.createDataFrame(userDs, [\"uid\", \"features\"])\n",
    "mh = MinHashLSH(inputCol=\"features\", outputCol=\"hashes\", numHashTables=num_hash_tables)\n",
    "start_time = time.time()\n",
    "model = mh.fit(dfUsers)\n",
    "print(\"--- %s seconds ---\" % (time.time() - start_time))"
   ]
  },
  {
   "cell_type": "code",
   "execution_count": null,
   "id": "f18174c6",
   "metadata": {},
   "outputs": [],
   "source": []
  }
 ],
 "metadata": {
  "kernelspec": {
   "display_name": "Python 3 (ipykernel)",
   "language": "python",
   "name": "python3"
  },
  "language_info": {
   "codemirror_mode": {
    "name": "ipython",
    "version": 3
   },
   "file_extension": ".py",
   "mimetype": "text/x-python",
   "name": "python",
   "nbconvert_exporter": "python",
   "pygments_lexer": "ipython3",
   "version": "3.7.15"
  }
 },
 "nbformat": 4,
 "nbformat_minor": 5
}
